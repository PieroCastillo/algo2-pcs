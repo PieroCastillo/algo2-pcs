{
 "cells": [
  {
   "cell_type": "markdown",
   "metadata": {},
   "source": [
    "problema 2\n"
   ]
  },
  {
   "cell_type": "code",
   "execution_count": 47,
   "metadata": {},
   "outputs": [],
   "source": [
    "data2 = [(2,1, 138100,135000),(2,2, 132100,137100),(2,3, 139200,128200),(2,4, 133600,127200),(2,5, 130800,126000),(2,6, 133800,124600),(2,7, 147700,133400),(2,8, 138100,124800),(2,9, 135200,147100),(2,10, 142300,130700),(2,11, 137600,128100),(2,12, 134500,149300),(2,13, 151000,142200),(2,14, 145300,147400),(2,15, 135700,131100),(2,16, 161600,141100),(2,17, 159200,153800),(2,18, 136100,131700),(2,19, 205900,177000),(2,20, 140300,133500),(2,21, 185300,158100),(2,22, 214700,159300),(2,23, 225600,221400),(2,24, 345700,210200),(2,25, 395300,246700),(2,26, 667100,291400),(2,27, 434900,244300),(2,28, 894300,360800),(2,29, 675200,341200),(2,30, 935100,423900),(2,31, 513100,263400),(2,32, 885700,360400),(2,33, 2408800,842700),(2,34, 2919100,1102700),(2,35, 7832800,2690500),(2,36, 36516200,10303400),(2,37, 13628700,3731400),(2,38, 30117600,8054000),(2,39, 29056900,9014100),(2,40, 21515400,6038000),(2,41, 181757300,49261800),(2,42, 148067200,40298100),(2,43, 84804600,23387500),(2,44, 39120500,9637900),(2,45, 24551100,6824800),(2,46, 485944000,126346600),(2,47, 938994700,240080700),(2,48, 1197717000,307326700),(2,49, 733006400,192686600),(2,50, 600295500,160425600),(2,51, 1121856100,293341000),(2,52, 674551100,174139800),(2,53, 4103945400,1034122100),(2,54, 2012033800,511992200),(2,55, 3778315300,963945800),(2,56, 3799919500,986845400),(2,57, 4823206700,1218844700),(2,58, 16238998400,4057752100),(2,59, 10201263800,2567955000),(2,60, 20381545500,5111619600)]\n",
    "data3 = [(3,1, 130900,144400),(3,2, 128000,124200),(3,3, 132800,119500),(3,4, 125300,123900),(3,5, 129800,122100),(3,6, 117100,112100),(3,7, 160900,134300),(3,8, 166900,173200),(3,9, 142600,129600),(3,10, 170500,141300),(3,11, 181200,174900),(3,12, 287000,206900),(3,13, 161700,167400),(3,14, 1060000,480200),(3,15, 364900,221500),(3,16, 383000,288300),(3,17, 4689800,2398400),(3,18, 3374300,1067100),(3,19, 10784600,2838500),(3,20, 894300,464300),(3,21, 34283300,11138800)]"
   ]
  },
  {
   "cell_type": "code",
   "execution_count": null,
   "metadata": {},
   "outputs": [],
   "source": [
    "import matplotlib.pyplot as plt\n",
    "\n",
    "# Ejemplo de datos (m, h, tFB, tDV)\n",
    "\n",
    "def printData(data, mary):\n",
    "    # Separar los datos para FB y DV, tiempo en nanosegundos(10^-9)\n",
    "    # convierte los tiempo a milisegundos(*10^6)\n",
    "    fb_data = [(m, h, tFB) for m, h, tFB, tDV in data]\n",
    "    dv_data = [(m, h, tDV) for m, h, tFB, tDV in data]\n",
    "\n",
    "    # Crear el gráfico\n",
    "    plt.figure(figsize=(10, 6))\n",
    "\n",
    "    # Graficar puntos para FB\n",
    "    for m in sorted(set([m for m, _, _ in fb_data])):\n",
    "        subset = [(h, t) for mi, h, t in fb_data if mi == m]\n",
    "        hs, ts = zip(*subset)\n",
    "        plt.plot(hs, ts, label=f'Brute force', marker='o', linestyle='-')\n",
    "\n",
    "    # Graficar puntos para DV\n",
    "    for m in sorted(set([m for m, _, _ in dv_data])):\n",
    "        subset = [(h, t) for mi, h, t in dv_data if mi == m]\n",
    "        hs, ts = zip(*subset)\n",
    "        plt.plot(hs, ts, label=f'Divide and conquer', marker='x', linestyle='--')\n",
    "\n",
    "    # Personalizar gráfico\n",
    "    plt.xlabel('Altura del árbol (h)')\n",
    "    plt.ylabel('Tiempo en nanosegundos')\n",
    "    plt.title(f'Comparación de algoritmos de recorrido de árboles con m={mary}')\n",
    "    plt.savefig(f'data_plot_2_trees_{mary}')\n",
    "    plt.legend()\n",
    "    plt.grid(True)\n",
    "    plt.show()\n",
    "\n",
    "printData(data2,2)\n",
    "printData(data3,3)\n"
   ]
  },
  {
   "cell_type": "code",
   "execution_count": null,
   "metadata": {},
   "outputs": [],
   "source": []
  }
 ],
 "metadata": {
  "kernelspec": {
   "display_name": "base",
   "language": "python",
   "name": "python3"
  },
  "language_info": {
   "codemirror_mode": {
    "name": "ipython",
    "version": 3
   },
   "file_extension": ".py",
   "mimetype": "text/x-python",
   "name": "python",
   "nbconvert_exporter": "python",
   "pygments_lexer": "ipython3",
   "version": "3.11.5"
  }
 },
 "nbformat": 4,
 "nbformat_minor": 2
}
